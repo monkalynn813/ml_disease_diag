{
 "cells": [
  {
   "cell_type": "markdown",
   "metadata": {},
   "source": [
    "# Machine Learning Project\n",
    "\n",
    "Authors:\n",
    "Jingyan Ling & Yuchen Wang\n"
   ]
  },
  {
   "cell_type": "code",
   "execution_count": 1,
   "metadata": {},
   "outputs": [
    {
     "ename": "FileNotFoundError",
     "evalue": "[Errno 2] No such file or directory: '/home/jingyan/Documents/eecs475/final_project/datasets/header.csv'",
     "output_type": "error",
     "traceback": [
      "\u001b[0;31m---------------------------------------------------------------------------\u001b[0m",
      "\u001b[0;31mFileNotFoundError\u001b[0m                         Traceback (most recent call last)",
      "\u001b[0;32m<ipython-input-1-948d7549d4a6>\u001b[0m in \u001b[0;36m<module>\u001b[0;34m()\u001b[0m\n\u001b[1;32m     12\u001b[0m \u001b[0mcsvfile\u001b[0m \u001b[0;34m=\u001b[0m \u001b[0mdatapath\u001b[0m \u001b[0;34m+\u001b[0m \u001b[0;34m'header.csv'\u001b[0m\u001b[0;34m\u001b[0m\u001b[0m\n\u001b[1;32m     13\u001b[0m \u001b[0mfields\u001b[0m \u001b[0;34m=\u001b[0m \u001b[0;34m[\u001b[0m\u001b[0;34m]\u001b[0m\u001b[0;34m\u001b[0m\u001b[0m\n\u001b[0;32m---> 14\u001b[0;31m \u001b[0;32mwith\u001b[0m \u001b[0mopen\u001b[0m\u001b[0;34m(\u001b[0m\u001b[0mcsvfile\u001b[0m\u001b[0;34m)\u001b[0m \u001b[0;32mas\u001b[0m \u001b[0mfile\u001b[0m\u001b[0;34m:\u001b[0m\u001b[0;34m\u001b[0m\u001b[0m\n\u001b[0m\u001b[1;32m     15\u001b[0m     \u001b[0mreader\u001b[0m \u001b[0;34m=\u001b[0m \u001b[0mcsv\u001b[0m\u001b[0;34m.\u001b[0m\u001b[0mreader\u001b[0m\u001b[0;34m(\u001b[0m\u001b[0mfile\u001b[0m\u001b[0;34m,\u001b[0m\u001b[0mdelimiter\u001b[0m\u001b[0;34m=\u001b[0m\u001b[0;34m','\u001b[0m\u001b[0;34m)\u001b[0m\u001b[0;34m\u001b[0m\u001b[0m\n\u001b[1;32m     16\u001b[0m     \u001b[0;32mfor\u001b[0m \u001b[0mrow\u001b[0m \u001b[0;32min\u001b[0m \u001b[0mreader\u001b[0m\u001b[0;34m:\u001b[0m\u001b[0;34m\u001b[0m\u001b[0m\n",
      "\u001b[0;31mFileNotFoundError\u001b[0m: [Errno 2] No such file or directory: '/home/jingyan/Documents/eecs475/final_project/datasets/header.csv'"
     ]
    }
   ],
   "source": [
    "#Apply Boosting/ Forward statge- wise tranning\n",
    "from autograd import grad \n",
    "from autograd import numpy as np\n",
    "import matplotlib.pyplot as plt\n",
    "from mpl_toolkits import mplot3d\n",
    "from mpl_toolkits.mplot3d import Axes3D\n",
    "import csv\n",
    "from tkinter import Tk, Label, Button, Entry, Frame, TOP, LEFT, RIGHT, StringVar\n",
    "\n",
    "\n",
    "datapath = '/home/jingyan/Documents/eecs475/final_project/datasets/'\n",
    "csvfile = datapath + 'header.csv'\n",
    "fields = []\n",
    "with open(csvfile) as file:\n",
    "    reader = csv.reader(file,delimiter=',')\n",
    "    for row in reader:\n",
    "        fields.append(row)\n",
    "\n",
    "\n",
    "csvname =datapath + 'dermatology.data.csv'\n",
    "data = np.loadtxt(csvname,delimiter = ',')\n",
    "\n",
    "# # get input/output pairs\n",
    "\n",
    "x = (data[:,:-1]).T\n",
    "xx=x\n",
    "y = data[:,-1]\n",
    "y =np.reshape(y,(1,len(y)))-1\n",
    "\n",
    "\n",
    "#boosting initial model\n",
    "def boostmodel0(x,w):\n",
    "    a=w\n",
    "    return a\n",
    "#boosting first round model\n",
    "def boostmodel1(x,w):\n",
    "    a=np.array([ws0]*y.size)+x*w\n",
    "    return a\n",
    "\n",
    "def boostmodel2(x,w):\n",
    "    a=np.array([ws0]*y.size)+x[sig1]*ws1+x*w\n",
    "    return a\n",
    "\n",
    "def boostmodel3(x,w):\n",
    "    a=np.array([ws0]*y.size)+x[sig1]*ws1+x[sig2]*ws2+x*w\n",
    "    return a\n",
    "\n",
    "def boostmodel4(x,w):\n",
    "    a=np.array([ws0]*y.size)+x[sig1]*ws1+x[sig2]*ws2+x[sig3]*ws3+x*w\n",
    "    return a\n",
    "\n",
    "def softmax (w,x,model):\n",
    "    \n",
    "    cost = np.sum(np.log (1 + np.exp(-y*model(x,w))))\n",
    "    return cost/float (np.size(y))\n",
    "\n",
    "def gradient_descent(g,alpha,max_its,w,model,i):\n",
    "    # compute gradient module using autograd\n",
    "    gradient = grad(g)\n",
    "    ww = w[i]\n",
    "    xx=x[i-1]\n",
    "#     if i > 0:\n",
    "#         x = [xx[i-1]]\n",
    "    \n",
    "    # run the gradient descent loop\n",
    "    weight_history = [ww] # weight history container\n",
    "    cost_history = [g(ww,xx,model)] # cost function history container\n",
    "    for k in range(max_its):\n",
    "        # evaluate the gradient\n",
    "        grad_eval = gradient(ww,xx,model)\n",
    "\n",
    "        # take gradient descent step\n",
    "        ww = ww - alpha*grad_eval\n",
    "        \n",
    "        # record weight and cost\n",
    "        weight_history.append(ww)\n",
    "        cost_history.append(g(ww,xx,model))\n",
    "    return weight_history,cost_history\n",
    "\n",
    "w=np.random.randn(x.shape[0]+1,1)**2\n",
    "\n",
    "boostresult0=gradient_descent(softmax,3,250,w,boostmodel0,0)\n",
    "#Assign tuned w0\n",
    "ws0=boostresult0[0][-1][0]\n",
    "plt.plot(boostresult0[-1])\n",
    "plt.show()\n",
    "print(boostresult0[-1][-5:])"
   ]
  },
  {
   "cell_type": "code",
   "execution_count": 3,
   "metadata": {},
   "outputs": [
    {
     "name": "stdout",
     "output_type": "stream",
     "text": [
      "[0.21584086 0.21491893 0.21600349 0.21509692 0.21610598 0.21611037\n",
      " 0.21610881 0.21610123 0.21610878 0.21610498 0.21606388 0.21610089\n",
      " 0.21574969 0.21567585 0.21611049 0.21495948 0.21547324 0.21610859\n",
      " 0.2154245  0.2161105  0.21610582 0.21609095 0.21603394 0.21611035\n",
      " 0.21610466 0.21611045 0.21610814 0.21511697 0.21610067 0.21610614\n",
      " 0.21610155 0.21527653 0.21608076 0.21491435]\n",
      "33\n",
      "The first important attribute is Age\n"
     ]
    }
   ],
   "source": [
    "#Create list for second round boosting cost history and stroe weight\n",
    "boostcost1=[]\n",
    "boostweight1=[]\n",
    "for k in range(1,x.shape[0]+1):\n",
    "    boostresult1temp=gradient_descent(softmax,0.01,100,w,boostmodel1,k)\n",
    "    boostcost1=np.append(boostcost1,boostresult1temp[-1][-1])\n",
    "    boostweight1=np.append(boostweight1,boostresult1temp[0][-1]) \n",
    "\n",
    "print(boostcost1)    \n",
    "sig1=np.argmin(boostcost1)\n",
    "\n",
    "print(sig1)\n",
    "ws1=boostweight1[sig1]\n",
    "\n",
    "print('The first important attribute is',fields[0][sig1])"
   ]
  },
  {
   "cell_type": "code",
   "execution_count": 4,
   "metadata": {},
   "outputs": [
    {
     "name": "stdout",
     "output_type": "stream",
     "text": [
      "[0.21493692 0.21491503 0.21508396 0.21494289 0.21610596 0.21611036\n",
      " 0.21610881 0.21610123 0.21610875 0.21610492 0.21606388 0.21610089\n",
      " 0.21574966 0.21503215 0.21611049 0.21491452 0.21492796 0.21509998\n",
      " 0.21542449 0.2161105  0.21610568 0.21609095 0.21494147 0.21611035\n",
      " 0.21610466 0.21611045 0.21610814 0.21491918 0.21610067 0.21610614\n",
      " 0.21610155 0.21497092 0.21608076 0.21491435]\n",
      "15\n",
      "The second important attribute is exocytosis\n"
     ]
    }
   ],
   "source": [
    "#Create list for second round boosting cost history and stroe weight\n",
    "boostcost2=[]\n",
    "boostweight2=[]\n",
    "for k in range(1,x.shape[0]+1):\n",
    "    boostresult2temp=gradient_descent(softmax,0.1,50,w,boostmodel2,k)\n",
    "    boostcost2=np.append(boostcost2,boostresult2temp[-1][-1])\n",
    "    boostweight2=np.append(boostweight2,boostresult2temp[0][-1]) \n",
    "print(boostcost2)    \n",
    "sig2=np.argmin(boostcost2)\n",
    "if sig2 == sig1:\n",
    "    sig2=np.argsort(boostcost2)[1]\n",
    "print(sig2)\n",
    "ws2=boostweight2[sig2]\n",
    "\n",
    "print('The second important attribute is',fields[0][sig2])"
   ]
  },
  {
   "cell_type": "code",
   "execution_count": 5,
   "metadata": {},
   "outputs": [
    {
     "name": "stdout",
     "output_type": "stream",
     "text": [
      "[0.21491714 0.21491443 0.21508396 0.21491788 0.2149166  0.21611036\n",
      " 0.21610881 0.21610123 0.21610875 0.21610492 0.21606388 0.21610089\n",
      " 0.21574966 0.21503215 0.21611049 0.21491437 0.21491603 0.21509998\n",
      " 0.21497738 0.2161105  0.21610568 0.21609095 0.21494147 0.21611035\n",
      " 0.21610466 0.21611045 0.21610814 0.21491442 0.21610067 0.21610614\n",
      " 0.21610155 0.21491521 0.21608076 0.21491435]\n",
      "27\n",
      "The third important attribute is spongiosis\n"
     ]
    }
   ],
   "source": [
    "#Create list for second round boosting cost history and stroe weight\n",
    "boostcost3=[]\n",
    "boostweight3=[]\n",
    "for k in range(1,x.shape[0]+1):\n",
    "    boostresult3temp=gradient_descent(softmax,0.1,50,w,boostmodel3,k)\n",
    "    boostcost3=np.append(boostcost3,boostresult3temp[-1][-1])\n",
    "    boostweight3=np.append(boostweight3,boostresult3temp[0][-1]) \n",
    "print(boostcost3)    \n",
    "sig3=np.argmin(boostcost3)\n",
    "if sig3==sig1:\n",
    "    sig3=np.argsort(boostcost3)[1]\n",
    "if sig3==sig2:\n",
    "    sig3=np.argsort(boostcost3)[2]\n",
    "print(sig3)\n",
    "ws3=boostweight3[sig3]\n",
    "\n",
    "\n",
    "print('The third important attribute is',fields[0][sig3])"
   ]
  },
  {
   "cell_type": "code",
   "execution_count": 6,
   "metadata": {},
   "outputs": [
    {
     "name": "stdout",
     "output_type": "stream",
     "text": [
      "[0.21491542 0.21491436 0.21493909 0.21491455 0.2149166  0.21611036\n",
      " 0.21610881 0.21610123 0.21610875 0.21610492 0.21606388 0.21610089\n",
      " 0.21574966 0.21503215 0.21536974 0.21491436 0.21491459 0.2149852\n",
      " 0.21493842 0.2161105  0.21498039 0.21609095 0.21494147 0.21611035\n",
      " 0.21610466 0.21611045 0.21610814 0.21491438 0.21610067 0.21610614\n",
      " 0.21610155 0.2149144  0.21608076 0.21491435]\n",
      "1\n",
      "The forth important attribute is scaling\n"
     ]
    }
   ],
   "source": [
    "#Create list for second round boosting cost history and stroe weight\n",
    "boostcost4=[]\n",
    "boostweight4=[]\n",
    "for k in range(1,x.shape[0]+1):\n",
    "    boostresult4temp=gradient_descent(softmax,0.1,50,w,boostmodel4,k)\n",
    "    boostcost4=np.append(boostcost4,boostresult4temp[-1][-1])\n",
    "    boostweight4=np.append(boostweight4,boostresult4temp[0][-1]) \n",
    "print(boostcost4)    \n",
    "sig4=np.argmin(boostcost4)\n",
    "if sig4==sig1:\n",
    "    sig4=np.argsort(boostcost4)[2]\n",
    "if sig4==sig2:\n",
    "    sig4=np.argsort(boostcost4)[2]\n",
    "if sig4==sig3:\n",
    "    sig4=np.argsort(boostcost4)[3]\n",
    "print(sig4)\n",
    "ws4=boostweight4[sig4]\n",
    "\n",
    "\n",
    "print('The forth important attribute is',fields[0][sig4])"
   ]
  },
  {
   "cell_type": "code",
   "execution_count": null,
   "metadata": {},
   "outputs": [],
   "source": [
    "##### def changeY (y,n,m):\n",
    "    for i in range(np.size(y)):\n",
    "        if(y[0][i] == n):\n",
    "            y[0][i] = m\n",
    "            \n",
    "def model(x,w):\n",
    "    a = w[0] + np.dot(x.T,w[1:])\n",
    "    return a.T\n",
    "# multiclass softmaax regularized by thre summed length of all normal vectors\n",
    "\n",
    "lam = 10**-5  # our regularization paramter \n",
    "def multiclass_perceptron(w,x):        \n",
    "    # pre-compute predictions on all points\n",
    "    all_evals = model(x,w)\n",
    "    \n",
    "    # compute maximum across data points\n",
    "    a = np.max(all_evals,axis = 0)    \n",
    "\n",
    "    # compute cost in compact form using numpy broadcasting\n",
    "    b = all_evals[y.astype(int).flatten(),np.arange(np.size(y))]\n",
    "    cost = np.sum(a - b)\n",
    "    \n",
    "    # add regularizer\n",
    "    cost = cost + lam*np.linalg.norm(w[1:,:],'fro')**2\n",
    "    \n",
    "    # return average\n",
    "    return cost/float(np.size(y))\n",
    "\n",
    "def gradient_descent(g,alpha,max_its,w,model):\n",
    "    # compute gradient module using autograd\n",
    "    gradient = grad(g)\n",
    "    if model==\"boost\":\n",
    "        x=x_boost\n",
    "        w=w2\n",
    "    if model==\"raw input\":\n",
    "        x=xx\n",
    "        w=w1\n",
    "        \n",
    "    \n",
    "    # run the gradient descent loop\n",
    "    weight_history = [w] # weight history container\n",
    "    cost_history = [g(w,x)] # cost function history container\n",
    "    for k in range(max_its):\n",
    "        # evaluate the gradient\n",
    "        grad_eval = gradient(w,x)\n",
    "        \n",
    "        # take gradient descent step\n",
    "        w = w - alpha*grad_eval\n",
    "        \n",
    "        # record weight and cost\n",
    "        weight_history.append(w)\n",
    "        cost_history.append(g(w,x))\n",
    "    return weight_history,cost_history\n",
    "#Return classification and the probability \n",
    "def fusion_rule(x,w):\n",
    "    a=model(x,w)\n",
    "    classif=np.argmax(a,axis=0)\n",
    "    probability=[]\n",
    "    for i in range(a.shape[1]):\n",
    "        b=a[:,i]\n",
    "        percentagetemp=b/np.linalg.norm(b)\n",
    "        percentage=percentagetemp[classif[i]]\n",
    "        probability=np.append(probability,percentage)\n",
    "    return classif,probability\n",
    "\n"
   ]
  },
  {
   "cell_type": "code",
   "execution_count": 8,
   "metadata": {},
   "outputs": [
    {
     "name": "stdout",
     "output_type": "stream",
     "text": [
      "training model result is: [1 0 2 0 2 1 4 2 3 3 0 1 1 0 2 3 1 0 2 4 5 1 4 2 4 0 5 4 1 2 0 1 0 1 2 0 1\n",
      " 1 0 1 4 2 3 5 1 2 2 3 0 0 4 0 1 2 3 1 5 0 4 0 1 2 0 3 4 0 1 5 2 4 3 1 1 0\n",
      " 2 4 0 1 1 1 4 0 0 2 0 3 1 1 4 0 2 3 1 4 0 5 1 4 0 1 1 0 3 0 2 0 0 2 4 2 2\n",
      " 4 1 2 3 0 1 4 5 0 0 1 5 2 4 3 0 0 2 4 4 0 1 1 2 0 1 0 0 2 2 2 1 4 3 1 1 0\n",
      " 0 0 4 2 1 2 1 1 3 1 2 5 1 0 0 2 3 2 2 0 0 0 2 0 0 1 2 2 0 0 0 0 5 1 1 1 1\n",
      " 0 2 2 2 0 0 1 2 1 1 1 4 4 4 4 4 0 0 0 0 0 0 0 2 2 2 2 2 2 3 3 3 3 4 4 4 4\n",
      " 4 4 4 1 1 1 1 0 0 0 0 0 0 5 5 0 0 0 0 0 0 0 0 2 2 2 2 2 2 2 3 1 3 3 3 1 5\n",
      " 5 5 3 3 3 0 0 0 0 0 1 1 3 3 1 0 0 1 3 1 2 2 2 2 0 0 0 0 4 4 4 4 4 2 2 2 3\n",
      " 0 0 3 3 3 0 0 0 2 2 2 2 2 0 0 0 0 3 3 0 0 3 2 2 1 0 0 3 3 4 4 0 0 4 4 2 0\n",
      " 4 4 5 5 3 1 5 5 5 0 0 0 4 4 0 0 0 0 1 1 3 3 2 2 0]\n",
      "number of miscalssification: 8\n"
     ]
    },
    {
     "data": {
      "image/png": "[encoded data removed]",
      "text/plain": [
       "<Figure size 432x288 with 1 Axes>"
      ]
     },
     "metadata": {},
     "output_type": "display_data"
    },
    {
     "name": "stdout",
     "output_type": "stream",
     "text": [
      "[0.0023965446684378372, 0.004293767938804762, 0.0020961924382441118, 0.00408684555602437, 0.0022886021636218494, 0.003879923173363353, 0.0024909549569883515, 0.004186327466217774, 0.0021806935470965847, 0.00397940508350325]\n"
     ]
    }
   ],
   "source": [
    "######Multi-class Clssification without Boosting Feature###########\n",
    "w1=np.random.randn(x.shape[0]+1,len(np.unique(y)))**2/100  #(number of atrributes+1 , number of classification )\n",
    "weight_history,cost_history=gradient_descent(multiclass_perceptron,5e-3,1000,w,\"raw input\")\n",
    "wo=weight_history[-1]\n",
    "#print(wo,cost_history[-10:])\n",
    "result=fusion_rule(x,wo)[0]\n",
    "probability=fusion_rule(x,wo)[1]\n",
    "print(\"training model result is:\",result)\n",
    "misclass=0\n",
    "for i in range(np.size(y)):\n",
    "    if result[i] != y[0][i]:\n",
    "#         print(i,\"th calssification doesnot match.\",\"detected class:\",result[i],\"actual class:\",y[0][i])\n",
    "        misclass=misclass+1\n",
    "print(\"number of miscalssification:\",misclass)\n",
    "plt.plot(cost_history)\n",
    "plt.show()\n",
    "print(cost_history[-10:])"
   ]
  },
  {
   "cell_type": "code",
   "execution_count": 15,
   "metadata": {},
   "outputs": [
    {
     "name": "stdout",
     "output_type": "stream",
     "text": [
      "training model result is: [2 0 1 0 1 1 0 1 1 2 0 1 1 0 0 1 2 0 2 4 0 1 1 0 2 0 4 1 2 2 0 5 0 2 2 0 2\n",
      " 1 0 1 0 2 2 0 1 2 2 0 0 0 2 0 2 2 4 1 1 0 0 0 2 0 0 1 0 0 1 2 2 2 2 1 1 2\n",
      " 2 0 0 1 2 1 2 0 0 2 0 1 2 2 2 0 2 2 1 0 2 0 1 0 0 5 2 0 2 0 2 0 0 5 0 1 2\n",
      " 0 1 1 1 4 1 0 5 0 0 1 5 2 0 2 0 0 1 0 0 0 1 1 1 0 1 0 2 2 2 2 2 0 1 2 1 0\n",
      " 0 0 0 2 2 1 1 1 2 2 5 5 1 0 0 2 1 1 1 0 0 0 1 0 0 2 2 2 0 0 0 0 1 1 1 2 1\n",
      " 0 2 0 2 0 0 1 2 1 1 1 0 2 0 2 0 0 0 0 0 0 0 0 2 2 1 5 1 1 1 1 2 2 0 1 1 0\n",
      " 0 0 0 1 2 1 2 0 2 2 2 2 2 1 5 0 0 0 0 0 0 0 0 2 1 2 1 2 2 2 2 2 2 1 2 2 1\n",
      " 1 1 2 1 2 0 0 0 0 0 1 1 1 2 1 0 0 2 1 1 2 2 2 1 0 0 0 0 0 0 0 0 0 2 2 2 2\n",
      " 0 0 2 2 2 0 0 0 2 2 2 2 2 0 0 0 0 1 2 0 0 2 2 2 1 0 0 1 1 2 2 0 0 2 2 2 0\n",
      " 2 2 5 5 1 1 5 1 5 0 0 0 2 2 0 0 0 0 2 1 4 2 2 2 0]\n",
      "number of miscalssification: 163\n"
     ]
    },
    {
     "data": {
      "image/png": "[encoded data removed]",
      "text/plain": [
       "<Figure size 432x288 with 1 Axes>"
      ]
     },
     "metadata": {},
     "output_type": "display_data"
    },
    {
     "name": "stdout",
     "output_type": "stream",
     "text": [
      "[0.0047613895824895995, 0.004320054581873307, 0.007494940469948108, 0.004852529630309179, 0.004213209674688049, 0.00810617255524354, 0.006409621479136734, 0.004479814339340911, 0.008069131505890982, 0.006419426400396647]\n"
     ]
    }
   ],
   "source": [
    "##### with boosting\n",
    "x_boost=np.array([x[sig1],x[sig2],x[sig3],x[sig4]])\n",
    "\n",
    "w2=np.random.randn(x_boost.shape[0]+1,len(np.unique(y)))**2/100  #(number of atrributes+1 , number of classification )\n",
    "weight_history2,cost_history2=gradient_descent(multiclass_perceptron,5e-5,2000,w,'boost')\n",
    "wo2=weight_history2[-1]\n",
    "#print(wo,cost_history[-10:])\n",
    "result2=fusion_rule(x_boost,wo2)[0]\n",
    "probability2=fusion_rule(x_boost,wo2)[1]\n",
    "print(\"training model result is:\",result2)\n",
    "misclass2=0\n",
    "for i in range(np.size(y)):\n",
    "    if result2[i] != y[0][i]:\n",
    "#         print(i,\"th calssification doesnot match.\",\"detected class:\",result[i],\"actual class:\",y[0][i])\n",
    "        misclass2=misclass2+1\n",
    "print(\"number of miscalssification:\",misclass2)\n",
    "plt.plot(cost_history2)\n",
    "plt.show()\n",
    "print(cost_history2[-10:])"
   ]
  },
  {
   "cell_type": "code",
   "execution_count": 22,
   "metadata": {},
   "outputs": [],
   "source": [
    "root = Tk()\n",
    "root.title(\"Prediction\")\n",
    "root.geometry(\"600x1050\")\n",
    "v = StringVar()\n",
    "\n",
    "# test = np.array([[2,1,2,3,1,3,0,3,0,0,0,1,0,0,0,1,2,0,2,0,0,0,0,0,2,0,2,3,2,0,0,2,3,26]]).T\n",
    "diagnose = [\"Psoriasis\",\"Seboreic Dermatitis\",\"Lichen Planus\",\"Pityriasis Rosea\",\"Cronic Dermatitis\",\"Pityriasis Rubra Pilaris\"]\n",
    "\n",
    "def withBoost(entries):\n",
    "    temp1 = []\n",
    "    for entry in entries:\n",
    "        field = entry[0]\n",
    "        val1  = int(entry[1].get())\n",
    "        temp1.append(np.array([val1]))\n",
    "    withb=np.reshape(temp1,(34,1))\n",
    "#     withb=test\n",
    "    wb_boost=np.array([withb[sig1],withb[sig2],withb[sig3],withb[sig4]])\n",
    "    r1=fusion_rule(wb_boost,wo2)[0][0]\n",
    "    p1=fusion_rule(wb_boost,wo2)[1]\n",
    "    v.set(\"With boosting, the patient has a probability of %d%% having %s\" % (p1*100,diagnose[r1]))\n",
    "\n",
    "def withoutBoost(entries):\n",
    "    temp2 = []\n",
    "    for entry in entries:\n",
    "        val2 = int(entry[1].get())\n",
    "        temp2.append(val2)\n",
    "    withoutb=np.reshape(temp2,(34,1))\n",
    "    r2=fusion_rule(withoutb,wo)[0][0]\n",
    "    p2=fusion_rule(withoutb,wo)[1]\n",
    "    v.set(\"Without boosting, the patient has a probability of %d%% having %s\" % (p2*100,diagnose[r2]))\n",
    "    \n",
    "def makeform(root, fields):\n",
    "    entries = []\n",
    "    for field in fields[0]:\n",
    "        row = Frame(root)\n",
    "        lab = Label(row, width = 50, text=field, anchor='w')\n",
    "        ent = Entry(row, width = 10)\n",
    "        row.pack(side=TOP, padx=5, pady=5)\n",
    "        lab.pack(side=LEFT)\n",
    "        ent.pack(side=RIGHT)\n",
    "        entries.append((field, ent))\n",
    "    v.set(\"Please enter the data for calculation.\")\n",
    "    return entries\n",
    "\n",
    "ents = makeform(root, fields)\n",
    "root.bind('<Return>', (lambda event, e=ents: withBoost(e)))   \n",
    "b1 = Button(root, text='With Boost',command=(lambda e=ents: withBoost(e)))\n",
    "b1.pack(padx=5, pady=5)\n",
    "b2 = Button(root, text='Without Boost', command=(lambda e=ents: withoutBoost(e)))\n",
    "b2.pack(padx=5, pady=5)\n",
    "Label(root, textvariable = v).pack()\n",
    "root.mainloop()"
   ]
  },
  {
   "cell_type": "code",
   "execution_count": null,
   "metadata": {},
   "outputs": [],
   "source": []
  }
 ],
 "metadata": {
  "kernelspec": {
   "display_name": "Python 3",
   "language": "python",
   "name": "python3"
  },
  "language_info": {
   "codemirror_mode": {
    "name": "ipython",
    "version": 3
   },
   "file_extension": ".py",
   "mimetype": "text/x-python",
   "name": "python",
   "nbconvert_exporter": "python",
   "pygments_lexer": "ipython3",
   "version": "3.6.5"
  }
 },
 "nbformat": 4,
 "nbformat_minor": 2
}
