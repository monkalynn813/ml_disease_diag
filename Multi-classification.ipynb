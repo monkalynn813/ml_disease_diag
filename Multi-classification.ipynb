{
 "cells": [
  {
   "cell_type": "code",
   "execution_count": 204,
   "metadata": {},
   "outputs": [],
   "source": [
    "#!/usr/bin/env python3\n",
    "# -*- coding: utf-8 -*-\n",
    "\n",
    "\n",
    "\n",
    "# import autograd / numpy necessities\n",
    "from autograd import numpy as np\n",
    "from autograd import grad \n",
    "import matplotlib.pyplot as plt\n",
    "from mpl_toolkits.mplot3d import Axes3D\n",
    "from sklearn.preprocessing import normalize\n",
    "# set path to datasets\n",
    "datapath = '/home/jingyan/Documents/eecs475/final_project/datasets/'\n",
    "\n",
    "\n",
    "csvname =datapath + 'dermatology.data.csv'\n",
    "data = np.loadtxt(csvname,delimiter = ',')\n",
    "\n",
    "# # get input/output pairs\n",
    "\n",
    "x = (data[:,:-1]).T\n",
    "\n",
    "y = data[:,-1]\n",
    "y =np.reshape(y,(1,len(y)))-1\n",
    "\n",
    "def changeY (y,n,m):\n",
    "    for i in range(np.size(y)):\n",
    "        if(y[0][i] == n):\n",
    "            y[0][i] = m\n",
    "            \n",
    "def model(x,w):\n",
    "    a = w[0] + np.dot(x.T,w[1:])\n",
    "    return a.T\n",
    "# multiclass softmaax regularized by thre summed length of all normal vectors\n",
    "\n",
    "lam = 10**-5  # our regularization paramter \n",
    "def multiclass_perceptron(w):        \n",
    "    # pre-compute predictions on all points\n",
    "    all_evals = model(x,w)\n",
    "    \n",
    "    # compute maximum across data points\n",
    "    a = np.max(all_evals,axis = 0)    \n",
    "\n",
    "    # compute cost in compact form using numpy broadcasting\n",
    "    b = all_evals[y.astype(int).flatten(),np.arange(np.size(y))]\n",
    "    cost = np.sum(a - b)\n",
    "    \n",
    "    # add regularizer\n",
    "    cost = cost + lam*np.linalg.norm(w[1:,:],'fro')**2\n",
    "    \n",
    "    # return average\n",
    "    return cost/float(np.size(y))\n",
    "\n",
    "def gradient_descent(g,alpha,max_its,w):\n",
    "    # compute gradient module using autograd\n",
    "    gradient = grad(g)\n",
    "\n",
    "    # run the gradient descent loop\n",
    "    weight_history = [w] # weight history container\n",
    "    cost_history = [g(w)] # cost function history container\n",
    "    for k in range(max_its):\n",
    "        # evaluate the gradient\n",
    "        grad_eval = gradient(w)\n",
    "\n",
    "        # take gradient descent step\n",
    "        w = w - alpha*grad_eval\n",
    "        \n",
    "        # record weight and cost\n",
    "        weight_history.append(w)\n",
    "        cost_history.append(g(w))\n",
    "    return weight_history,cost_history\n",
    "#Return classification and the probability \n",
    "def fusion_rule(x,w):\n",
    "    a=model(x,w)\n",
    "    classif=np.argmax(a,axis=0)\n",
    "    probability=[]\n",
    "    for i in range(a.shape[1]):\n",
    "        b=a[:,i]\n",
    "        percentagetemp=b/np.linalg.norm(b)\n",
    "        percentage=percentagetemp[classif[i]]\n",
    "        probability=np.append(probability,percentage)\n",
    "    return classif,probability\n",
    "\n"
   ]
  },
  {
   "cell_type": "code",
   "execution_count": 215,
   "metadata": {},
   "outputs": [
    {
     "name": "stdout",
     "output_type": "stream",
     "text": [
      "training model result is: [1 0 2 0 2 1 4 2 3 3 0 1 1 0 2 3 1 0 2 4 5 1 4 2 4 0 5 4 1 2 0 1 0 1 2 0 1\n",
      " 1 0 1 4 2 3 5 1 2 2 3 0 0 4 0 1 2 3 1 5 0 4 0 1 2 0 3 4 0 1 5 2 4 3 1 1 0\n",
      " 2 4 0 1 1 1 4 0 0 2 0 3 1 1 4 0 2 3 1 4 0 5 1 4 0 1 1 0 3 0 2 0 0 2 4 2 2\n",
      " 4 1 2 3 0 1 4 5 0 0 1 5 2 4 3 0 0 2 4 4 0 3 1 2 0 1 0 0 2 2 2 1 4 3 1 1 0\n",
      " 0 0 4 2 1 2 1 1 3 1 2 5 1 0 0 2 3 2 2 0 0 0 2 0 0 1 2 2 0 0 0 0 5 1 1 1 1\n",
      " 0 2 2 2 0 0 1 2 1 1 1 4 4 4 4 4 0 0 0 0 0 0 0 2 2 2 2 2 2 3 3 3 3 4 4 4 4\n",
      " 4 4 4 1 1 1 1 0 0 0 0 0 0 5 5 0 0 0 0 0 0 0 0 2 2 2 2 2 2 2 3 1 3 3 3 1 5\n",
      " 5 5 3 3 3 0 0 0 0 0 1 1 3 3 3 0 0 1 3 1 2 2 2 2 0 0 0 0 4 4 4 4 4 2 2 2 3\n",
      " 0 0 3 3 3 0 0 0 2 2 2 2 2 0 0 0 0 3 3 0 0 3 2 2 1 0 0 3 3 4 4 0 0 4 4 2 0\n",
      " 4 4 5 5 3 1 5 5 5 0 0 0 4 4 0 0 0 0 1 1 3 3 2 2 0]\n",
      "number of miscalssification: 6\n"
     ]
    }
   ],
   "source": [
    "w=np.random.randn(x.shape[0]+1,len(np.unique(y)))**2/100  #(number of atrributes+1 , number of classification )\n",
    "weight_history,cost_history=gradient_descent(multiclass_perceptron,5e-3,1000,w)\n",
    "wo=weight_history[-1]\n",
    "#print(wo,cost_history[-10:])\n",
    "result=fusion_rule(x,wo)[0]\n",
    "probability=fusion_rule(x,wo)[1]\n",
    "print(\"training model result is:\",result)\n",
    "misclass=0\n",
    "for i in range(np.size(y)):\n",
    "    if result[i] != y[0][i]:\n",
    "#         print(i,\"th calssification doesnot match.\",\"detected class:\",result[i],\"actual class:\",y[0][i])\n",
    "        misclass=misclass+1\n",
    "print(\"number of miscalssification:\",misclass)"
   ]
  },
  {
   "cell_type": "code",
   "execution_count": 216,
   "metadata": {},
   "outputs": [
    {
     "data": {
      "image/png": "[encoded data removed]",
      "text/plain": [
       "<Figure size 432x288 with 1 Axes>"
      ]
     },
     "metadata": {},
     "output_type": "display_data"
    },
    {
     "name": "stdout",
     "output_type": "stream",
     "text": [
      "[0.003820523131235541, 0.007731870606135492, 0.003530170976630371, 0.0055660243473609535, 0.002054812710909683, 0.00273895973608458, 0.002682438437344741, 0.0051999309004577094, 0.002190966385927023, 0.0025101123175035388]\n"
     ]
    }
   ],
   "source": [
    "plt.plot(cost_history)\n",
    "plt.show()\n",
    "print(cost_history[-10:])\n"
   ]
  }
 ],
 "metadata": {
  "kernelspec": {
   "display_name": "Python 3",
   "language": "python",
   "name": "python3"
  },
  "language_info": {
   "codemirror_mode": {
    "name": "ipython",
    "version": 3
   },
   "file_extension": ".py",
   "mimetype": "text/x-python",
   "name": "python",
   "nbconvert_exporter": "python",
   "pygments_lexer": "ipython3",
   "version": "3.6.5"
  }
 },
 "nbformat": 4,
 "nbformat_minor": 2
}
