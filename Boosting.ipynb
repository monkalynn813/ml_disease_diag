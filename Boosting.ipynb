{
 "cells": [
  {
   "cell_type": "code",
   "execution_count": 113,
   "metadata": {},
   "outputs": [
    {
     "data": {
      "image/png": "[encoded data removed]",
      "text/plain": [
       "<Figure size 432x288 with 1 Axes>"
      ]
     },
     "metadata": {},
     "output_type": "display_data"
    },
    {
     "name": "stdout",
     "output_type": "stream",
     "text": [
      "[0.21612205034846868, 0.2161176390485189, 0.21611326004665077, 0.2161089129880579, 0.21610459752312686]\n"
     ]
    }
   ],
   "source": [
    "#Apply Boosting/ Forward statge- wise tranning\n",
    "from autograd import grad \n",
    "from autograd import numpy as np\n",
    "import matplotlib.pyplot as plt\n",
    "from mpl_toolkits import mplot3d\n",
    "from mpl_toolkits.mplot3d import Axes3D\n",
    "import csv\n",
    "\n",
    "\n",
    "datapath = '/home/jingyan/Documents/eecs475/final_project/datasets/'\n",
    "csvfile = datapath + 'header.csv'\n",
    "fields = []\n",
    "with open(csvfile) as file:\n",
    "    reader = csv.reader(file,delimiter=',')\n",
    "    for row in reader:\n",
    "        fields.append(row)\n",
    "\n",
    "\n",
    "csvname =datapath + 'dermatology.data.csv'\n",
    "data = np.loadtxt(csvname,delimiter = ',')\n",
    "\n",
    "# # get input/output pairs\n",
    "\n",
    "x = (data[:,:-1]).T\n",
    "\n",
    "y = data[:,-1]\n",
    "y =np.reshape(y,(1,len(y)))-1\n",
    "\n",
    "\n",
    "#boosting initial model\n",
    "def boostmodel0(x,w):\n",
    "    a=w\n",
    "    return a\n",
    "#boosting first round model\n",
    "def boostmodel1(x,w):\n",
    "    a=np.array([ws0]*y.size)+x*w\n",
    "    return a\n",
    "\n",
    "def boostmodel2(x,w):\n",
    "    a=np.array([ws0]*y.size)+x[sig1]*ws1+x*w\n",
    "    return a\n",
    "\n",
    "def boostmodel3(x,w):\n",
    "    a=np.array([ws0]*y.size)+x[sig1]*ws1+x[sig2]*ws2+x*w\n",
    "    return a\n",
    "\n",
    "def boostmodel4(x,w):\n",
    "    a=np.array([ws0]*y.size)+x[sig1]*ws1+x[sig2]*ws2+x[sig3]*ws3+x*w\n",
    "    return a\n",
    "\n",
    "def softmax (w,x,model):\n",
    "    \n",
    "    cost = np.sum(np.log (1 + np.exp(-y*model(x,w))))\n",
    "    return cost/float (np.size(y))\n",
    "\n",
    "def gradient_descent(g,alpha,max_its,w,model,i):\n",
    "    # compute gradient module using autograd\n",
    "    gradient = grad(g)\n",
    "    ww = w[i]\n",
    "    xx=x[i-1]\n",
    "#     if i > 0:\n",
    "#         x = [xx[i-1]]\n",
    "    \n",
    "    # run the gradient descent loop\n",
    "    weight_history = [ww] # weight history container\n",
    "    cost_history = [g(ww,xx,model)] # cost function history container\n",
    "    for k in range(max_its):\n",
    "        # evaluate the gradient\n",
    "        grad_eval = gradient(ww,xx,model)\n",
    "\n",
    "        # take gradient descent step\n",
    "        ww = ww - alpha*grad_eval\n",
    "        \n",
    "        # record weight and cost\n",
    "        weight_history.append(ww)\n",
    "        cost_history.append(g(ww,xx,model))\n",
    "    return weight_history,cost_history\n",
    "\n",
    "w=np.random.randn(x.shape[0]+1,1)**2\n",
    "\n",
    "boostresult0=gradient_descent(softmax,3,250,w,boostmodel0,0)\n",
    "#Assign tuned w0\n",
    "ws0=boostresult0[0][-1][0]\n",
    "plt.plot(boostresult0[-1])\n",
    "plt.show()\n",
    "print(boostresult0[-1][-5:])"
   ]
  },
  {
   "cell_type": "code",
   "execution_count": 114,
   "metadata": {},
   "outputs": [
    {
     "name": "stdout",
     "output_type": "stream",
     "text": [
      "[0.2150525  0.21514872 0.2156726  0.21609912 0.21610423 0.21609512\n",
      " 0.21610454 0.21609562 0.21603532 0.21603115 0.2160857  0.21609809\n",
      " 0.21609883 0.21583241 0.21610432 0.2149636  0.21518536 0.21608264\n",
      " 0.2153894  0.2161046  0.21609221 0.2161005  0.21603712 0.21610457\n",
      " 0.21609497 0.21610451 0.21609895 0.21548587 0.21609493 0.21608649\n",
      " 0.21608742 0.21544059 0.21608347 0.21491435]\n",
      "33\n",
      "The first important attribute is Age\n"
     ]
    }
   ],
   "source": [
    "#Create list for second round boosting cost history and stroe weight\n",
    "boostcost1=[]\n",
    "boostweight1=[]\n",
    "for k in range(1,x.shape[0]+1):\n",
    "    boostresult1temp=gradient_descent(softmax,0.01,100,w,boostmodel1,k)\n",
    "    boostcost1=np.append(boostcost1,boostresult1temp[-1][-1])\n",
    "    boostweight1=np.append(boostweight1,boostresult1temp[0][-1]) \n",
    "\n",
    "print(boostcost1)    \n",
    "sig1=np.argmin(boostcost1)\n",
    "\n",
    "print(sig1)\n",
    "ws1=boostweight1[sig1]\n",
    "\n",
    "print('The first important attribute is',fields[0][sig1])"
   ]
  },
  {
   "cell_type": "code",
   "execution_count": 115,
   "metadata": {},
   "outputs": [
    {
     "name": "stdout",
     "output_type": "stream",
     "text": [
      "[0.21491688 0.21494602 0.21501726 0.21507448 0.21610421 0.21609512\n",
      " 0.21610454 0.21609562 0.21603532 0.21603115 0.2160857  0.21609809\n",
      " 0.21609765 0.21503799 0.21610432 0.21491447 0.21491933 0.21507211\n",
      " 0.21538939 0.2161046  0.21609208 0.2161005  0.21493488 0.21610457\n",
      " 0.21609497 0.21610451 0.21609895 0.21492479 0.21609493 0.21608649\n",
      " 0.21608742 0.21498572 0.21608347 0.21491435]\n",
      "15\n",
      "The second important attribute is exocytosis\n"
     ]
    }
   ],
   "source": [
    "#Create list for second round boosting cost history and stroe weight\n",
    "boostcost2=[]\n",
    "boostweight2=[]\n",
    "for k in range(1,x.shape[0]+1):\n",
    "    boostresult2temp=gradient_descent(softmax,0.1,50,w,boostmodel2,k)\n",
    "    boostcost2=np.append(boostcost2,boostresult2temp[-1][-1])\n",
    "    boostweight2=np.append(boostweight2,boostresult2temp[0][-1]) \n",
    "print(boostcost2)    \n",
    "sig2=np.argmin(boostcost2)\n",
    "if sig2 == sig1:\n",
    "    sig2=np.argsort(boostcost2)[1]\n",
    "print(sig2)\n",
    "ws2=boostweight2[sig2]\n",
    "\n",
    "print('The second important attribute is',fields[0][sig2])"
   ]
  },
  {
   "cell_type": "code",
   "execution_count": 119,
   "metadata": {},
   "outputs": [
    {
     "name": "stdout",
     "output_type": "stream",
     "text": [
      "[0.2149147  0.21491872 0.21501726 0.21493646 0.21491745 0.21609512\n",
      " 0.21610454 0.21609562 0.21603532 0.21603115 0.2160857  0.21609809\n",
      " 0.21609765 0.21503799 0.21610432 0.21491437 0.21491504 0.21507211\n",
      " 0.21497979 0.2161046  0.21609208 0.2161005  0.21493488 0.21610457\n",
      " 0.21609497 0.21610451 0.21609895 0.21491455 0.21609493 0.21608649\n",
      " 0.21608742 0.21491571 0.21608347 0.21491435]\n",
      "27\n",
      "The third important attribute is spongiosis\n"
     ]
    }
   ],
   "source": [
    "#Create list for second round boosting cost history and stroe weight\n",
    "boostcost3=[]\n",
    "boostweight3=[]\n",
    "for k in range(1,x.shape[0]+1):\n",
    "    boostresult3temp=gradient_descent(softmax,0.1,50,w,boostmodel3,k)\n",
    "    boostcost3=np.append(boostcost3,boostresult3temp[-1][-1])\n",
    "    boostweight3=np.append(boostweight3,boostresult3temp[0][-1]) \n",
    "print(boostcost3)    \n",
    "sig3=np.argmin(boostcost3)\n",
    "if sig3==sig1:\n",
    "    sig3=np.argsort(boostcost3)[1]\n",
    "if sig3==sig2:\n",
    "    sig3=np.argsort(boostcost3)[2]\n",
    "print(sig3)\n",
    "ws3=boostweight3[sig3]\n",
    "\n",
    "\n",
    "print('The third important attribute is',fields[0][sig3])"
   ]
  },
  {
   "cell_type": "code",
   "execution_count": 123,
   "metadata": {},
   "outputs": [
    {
     "name": "stdout",
     "output_type": "stream",
     "text": [
      "[0.2149146  0.21491652 0.21496541 0.21492208 0.21491745 0.21609512\n",
      " 0.21610454 0.21609562 0.21603532 0.21603115 0.2160857  0.21609809\n",
      " 0.21609765 0.21503799 0.21575136 0.21491436 0.21491469 0.21502545\n",
      " 0.21496044 0.2161046  0.21532461 0.2161005  0.21493488 0.21610457\n",
      " 0.21609497 0.21610451 0.21609895 0.21491449 0.21609493 0.21608649\n",
      " 0.21608742 0.21491482 0.21608347 0.21491435]\n",
      "0\n",
      "The forth important attribute is erythema\n"
     ]
    }
   ],
   "source": [
    "#Create list for second round boosting cost history and stroe weight\n",
    "boostcost4=[]\n",
    "boostweight4=[]\n",
    "for k in range(1,x.shape[0]+1):\n",
    "    boostresult4temp=gradient_descent(softmax,0.1,50,w,boostmodel4,k)\n",
    "    boostcost4=np.append(boostcost4,boostresult4temp[-1][-1])\n",
    "    boostweight4=np.append(boostweight4,boostresult4temp[0][-1]) \n",
    "print(boostcost4)    \n",
    "sig4=np.argmin(boostcost4)\n",
    "if sig4==sig1:\n",
    "    sig4=np.argsort(boostcost4)[1]\n",
    "if sig4==sig2:\n",
    "    sig4=np.argsort(boostcost4)[2]\n",
    "if sig4==sig3:\n",
    "    sig4=np.argsort(boostcost4)[3]\n",
    "print(sig4)\n",
    "ws4=boostweight4[sig4]\n",
    "\n",
    "\n",
    "print('The forth important attribute is',fields[0][sig4])"
   ]
  }
 ],
 "metadata": {
  "kernelspec": {
   "display_name": "Python 3",
   "language": "python",
   "name": "python3"
  },
  "language_info": {
   "codemirror_mode": {
    "name": "ipython",
    "version": 3
   },
   "file_extension": ".py",
   "mimetype": "text/x-python",
   "name": "python",
   "nbconvert_exporter": "python",
   "pygments_lexer": "ipython3",
   "version": "3.6.5"
  }
 },
 "nbformat": 4,
 "nbformat_minor": 2
}
