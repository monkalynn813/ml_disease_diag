{
 "cells": [
  {
   "cell_type": "code",
   "execution_count": 11,
   "metadata": {},
   "outputs": [],
   "source": [
    "from tkinter import Tk, Label, Button, Entry, Frame, TOP, LEFT, RIGHT, StringVar\n",
    "import csv\n",
    "\n",
    "csvfile = '/home/yuchen/Documents/Fall2018/EECS475/final_project/' + 'breast_cancer_header.csv'\n",
    "fields = []\n",
    "with open(csvfile) as file:\n",
    "    reader = csv.reader(file,delimiter=',')\n",
    "    for row in reader:\n",
    "        fields.append(row)\n",
    "        \n",
    "root = Tk()\n",
    "root.title(\"Prediction\")\n",
    "root.geometry(\"500x1050\")\n",
    "v = StringVar()\n",
    "\n",
    "def withBoost(entries):\n",
    "    count = 0\n",
    "    for entry in entries:\n",
    "        field = entry[0]\n",
    "        text  = int(entry[1].get())\n",
    "        count = count + text\n",
    "    v.set(\"The probability of having xxx with boosting is: %d\" % count)\n",
    "\n",
    "def withoutBoost(entries):\n",
    "    count = 0\n",
    "    for entry in entries:\n",
    "        text  = int(entry[1].get())\n",
    "        count = count + text\n",
    "    v.set(\"The probability of having xxx without boosting is: %d\" % count)\n",
    "\n",
    "def makeform(root, fields):\n",
    "    entries = []\n",
    "    for field in fields[0]:\n",
    "        row = Frame(root)\n",
    "        lab = Label(row, width = 30, text=field, anchor='w')\n",
    "        ent = Entry(row, width = 10)\n",
    "        row.pack(side=TOP, padx=5, pady=5)\n",
    "        lab.pack(side=LEFT)\n",
    "        ent.pack(side=RIGHT)\n",
    "        entries.append((field, ent))\n",
    "    v.set(\"Please enter the data for calculation.\")\n",
    "    return entries\n",
    "\n",
    "def main():\n",
    "    ents = makeform(root, fields)\n",
    "    root.bind('<Return>', (lambda event, e=ents: withBoost(e)))   \n",
    "    b1 = Button(root, text='With Boost',command=(lambda e=ents: withBoost(e)))\n",
    "    b1.pack(padx=5, pady=5)\n",
    "    b2 = Button(root, text='Without Boost', command=(lambda e=ents: withoutBoost(e)))\n",
    "    b2.pack(padx=5, pady=5)\n",
    "    Label(root, textvariable = v).pack()\n",
    "    root.mainloop()\n",
    "\n",
    "if __name__ == '__main__':\n",
    "    main()"
   ]
  },
  {
   "cell_type": "code",
   "execution_count": null,
   "metadata": {},
   "outputs": [],
   "source": []
  }
 ],
 "metadata": {
  "kernelspec": {
   "display_name": "Python 3",
   "language": "python",
   "name": "python3"
  },
  "language_info": {
   "codemirror_mode": {
    "name": "ipython",
    "version": 3
   },
   "file_extension": ".py",
   "mimetype": "text/x-python",
   "name": "python",
   "nbconvert_exporter": "python",
   "pygments_lexer": "ipython3",
   "version": "3.6.5"
  }
 },
 "nbformat": 4,
 "nbformat_minor": 2
}
